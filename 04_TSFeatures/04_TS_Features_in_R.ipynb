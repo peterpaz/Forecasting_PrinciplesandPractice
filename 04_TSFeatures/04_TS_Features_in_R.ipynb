{
 "cells": [
  {
   "cell_type": "markdown",
   "id": "35dff2b1",
   "metadata": {},
   "source": [
    "# INSTALLATION OF PACKAGES"
   ]
  },
  {
   "cell_type": "code",
   "execution_count": 1,
   "id": "39c4b163",
   "metadata": {},
   "outputs": [
    {
     "name": "stderr",
     "output_type": "stream",
     "text": [
      "Updating HTML index of packages in '.Library'\n",
      "\n",
      "Making 'packages.html' ...\n",
      " done\n",
      "\n",
      "── \u001b[1mAttaching packages\u001b[22m ──────────────────────────────────────────── fpp3 0.4.0 ──\n",
      "\n",
      "\u001b[32m✔\u001b[39m \u001b[34mtibble     \u001b[39m 3.1.2      \u001b[32m✔\u001b[39m \u001b[34mtsibble    \u001b[39m 1.0.1 \n",
      "\u001b[32m✔\u001b[39m \u001b[34mdplyr      \u001b[39m 1.0.6      \u001b[32m✔\u001b[39m \u001b[34mtsibbledata\u001b[39m 0.3.0 \n",
      "\u001b[32m✔\u001b[39m \u001b[34mtidyr      \u001b[39m 1.1.3      \u001b[32m✔\u001b[39m \u001b[34mfeasts     \u001b[39m 0.2.1 \n",
      "\u001b[32m✔\u001b[39m \u001b[34mlubridate  \u001b[39m 1.7.10     \u001b[32m✔\u001b[39m \u001b[34mfable      \u001b[39m 0.3.1 \n",
      "\u001b[32m✔\u001b[39m \u001b[34mggplot2    \u001b[39m 3.3.3      \n",
      "\n",
      "── \u001b[1mConflicts\u001b[22m ───────────────────────────────────────────────── fpp3_conflicts ──\n",
      "\u001b[31m✖\u001b[39m \u001b[34mlubridate\u001b[39m::\u001b[32mdate()\u001b[39m    masks \u001b[34mbase\u001b[39m::date()\n",
      "\u001b[31m✖\u001b[39m \u001b[34mdplyr\u001b[39m::\u001b[32mfilter()\u001b[39m      masks \u001b[34mstats\u001b[39m::filter()\n",
      "\u001b[31m✖\u001b[39m \u001b[34mtsibble\u001b[39m::\u001b[32mintersect()\u001b[39m masks \u001b[34mbase\u001b[39m::intersect()\n",
      "\u001b[31m✖\u001b[39m \u001b[34mtsibble\u001b[39m::\u001b[32minterval()\u001b[39m  masks \u001b[34mlubridate\u001b[39m::interval()\n",
      "\u001b[31m✖\u001b[39m \u001b[34mdplyr\u001b[39m::\u001b[32mlag()\u001b[39m         masks \u001b[34mstats\u001b[39m::lag()\n",
      "\u001b[31m✖\u001b[39m \u001b[34mtsibble\u001b[39m::\u001b[32msetdiff()\u001b[39m   masks \u001b[34mbase\u001b[39m::setdiff()\n",
      "\u001b[31m✖\u001b[39m \u001b[34mtsibble\u001b[39m::\u001b[32munion()\u001b[39m     masks \u001b[34mbase\u001b[39m::union()\n",
      "\n",
      "Updating HTML index of packages in '.Library'\n",
      "\n",
      "Making 'packages.html' ...\n",
      " done\n",
      "\n"
     ]
    }
   ],
   "source": [
    "install.packages('fpp3', dependencies = TRUE)\n",
    "library(fpp3)\n",
    "install.packages(\"tidyverse\")"
   ]
  },
  {
   "cell_type": "code",
   "execution_count": null,
   "id": "b34bb86e",
   "metadata": {},
   "outputs": [],
   "source": []
  }
 ],
 "metadata": {
  "kernelspec": {
   "display_name": "R",
   "language": "R",
   "name": "ir"
  },
  "language_info": {
   "codemirror_mode": "r",
   "file_extension": ".r",
   "mimetype": "text/x-r-source",
   "name": "R",
   "pygments_lexer": "r",
   "version": "4.0.5"
  }
 },
 "nbformat": 4,
 "nbformat_minor": 5
}
