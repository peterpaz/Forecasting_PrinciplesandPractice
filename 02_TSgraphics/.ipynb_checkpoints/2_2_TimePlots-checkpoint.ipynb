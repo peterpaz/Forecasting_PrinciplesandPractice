{
 "cells": [
  {
   "cell_type": "code",
   "execution_count": 6,
   "metadata": {},
   "outputs": [],
   "source": [
    "import numpy as np\n",
    "import pandas as pd\n",
    "%matplotlib inline"
   ]
  },
  {
   "cell_type": "code",
   "execution_count": 15,
   "metadata": {},
   "outputs": [],
   "source": [
    "df = pd.read_csv('../data/melsyd_economy.csv',index_col='Week',parse_dates=True)"
   ]
  },
  {
   "cell_type": "code",
   "execution_count": 16,
   "metadata": {},
   "outputs": [
    {
     "data": {
      "text/html": [
       "<div>\n",
       "<style scoped>\n",
       "    .dataframe tbody tr th:only-of-type {\n",
       "        vertical-align: middle;\n",
       "    }\n",
       "\n",
       "    .dataframe tbody tr th {\n",
       "        vertical-align: top;\n",
       "    }\n",
       "\n",
       "    .dataframe thead th {\n",
       "        text-align: right;\n",
       "    }\n",
       "</style>\n",
       "<table border=\"1\" class=\"dataframe\">\n",
       "  <thead>\n",
       "    <tr style=\"text-align: right;\">\n",
       "      <th></th>\n",
       "      <th>Airports</th>\n",
       "      <th>Class</th>\n",
       "      <th>Passengers</th>\n",
       "    </tr>\n",
       "    <tr>\n",
       "      <th>Week</th>\n",
       "      <th></th>\n",
       "      <th></th>\n",
       "      <th></th>\n",
       "    </tr>\n",
       "  </thead>\n",
       "  <tbody>\n",
       "    <tr>\n",
       "      <th>1987 W26</th>\n",
       "      <td>MEL-SYD</td>\n",
       "      <td>Economy</td>\n",
       "      <td>20.167</td>\n",
       "    </tr>\n",
       "    <tr>\n",
       "      <th>1987 W27</th>\n",
       "      <td>MEL-SYD</td>\n",
       "      <td>Economy</td>\n",
       "      <td>20.161</td>\n",
       "    </tr>\n",
       "    <tr>\n",
       "      <th>1987 W28</th>\n",
       "      <td>MEL-SYD</td>\n",
       "      <td>Economy</td>\n",
       "      <td>19.993</td>\n",
       "    </tr>\n",
       "    <tr>\n",
       "      <th>1987 W29</th>\n",
       "      <td>MEL-SYD</td>\n",
       "      <td>Economy</td>\n",
       "      <td>20.986</td>\n",
       "    </tr>\n",
       "    <tr>\n",
       "      <th>1987 W30</th>\n",
       "      <td>MEL-SYD</td>\n",
       "      <td>Economy</td>\n",
       "      <td>20.497</td>\n",
       "    </tr>\n",
       "  </tbody>\n",
       "</table>\n",
       "</div>"
      ],
      "text/plain": [
       "         Airports    Class  Passengers\n",
       "Week                                  \n",
       "1987 W26  MEL-SYD  Economy      20.167\n",
       "1987 W27  MEL-SYD  Economy      20.161\n",
       "1987 W28  MEL-SYD  Economy      19.993\n",
       "1987 W29  MEL-SYD  Economy      20.986\n",
       "1987 W30  MEL-SYD  Economy      20.497"
      ]
     },
     "execution_count": 16,
     "metadata": {},
     "output_type": "execute_result"
    }
   ],
   "source": [
    "df.head()"
   ]
  },
  {
   "cell_type": "code",
   "execution_count": 17,
   "metadata": {
    "scrolled": true
   },
   "outputs": [
    {
     "data": {
      "text/plain": [
       "Index(['1987 W26', '1987 W27', '1987 W28', '1987 W29', '1987 W30', '1987 W31',\n",
       "       '1987 W32', '1987 W33', '1987 W34', '1987 W35',\n",
       "       ...\n",
       "       '1992 W38', '1992 W39', '1992 W40', '1992 W41', '1992 W42', '1992 W43',\n",
       "       '1992 W44', '1992 W45', '1992 W46', '1992 W47'],\n",
       "      dtype='object', name='Week', length=282)"
      ]
     },
     "execution_count": 17,
     "metadata": {},
     "output_type": "execute_result"
    }
   ],
   "source": [
    "df.index"
   ]
  },
  {
   "cell_type": "code",
   "execution_count": 18,
   "metadata": {},
   "outputs": [
    {
     "data": {
      "text/plain": [
       "<AxesSubplot:xlabel='Week'>"
      ]
     },
     "execution_count": 18,
     "metadata": {},
     "output_type": "execute_result"
    },
    {
     "data": {
      "image/png": "[encoded data removed]",
      "text/plain": [
       "<Figure size 432x288 with 1 Axes>"
      ]
     },
     "metadata": {
      "needs_background": "light"
     },
     "output_type": "display_data"
    }
   ],
   "source": [
    "df.plot()"
   ]
  },
  {
   "cell_type": "code",
   "execution_count": null,
   "metadata": {},
   "outputs": [],
   "source": [
    "#pip install pyreadr # To bring R data.\n"
   ]
  },
  {
   "cell_type": "code",
   "execution_count": 41,
   "metadata": {},
   "outputs": [
    {
     "data": {
      "text/plain": [
       "OrderedDict([('aus_airpassengers',\n",
       "                    Year  Passengers\n",
       "              0   1970.0    7.318700\n",
       "              1   1971.0    7.326600\n",
       "              2   1972.0    7.795600\n",
       "              3   1973.0    9.384600\n",
       "              4   1974.0   10.664700\n",
       "              5   1975.0   11.055100\n",
       "              6   1976.0   10.864300\n",
       "              7   1977.0   11.306500\n",
       "              8   1978.0   12.122300\n",
       "              9   1979.0   13.022500\n",
       "              10  1980.0   13.648800\n",
       "              11  1981.0   13.219500\n",
       "              12  1982.0   13.187900\n",
       "              13  1983.0   12.601500\n",
       "              14  1984.0   13.236800\n",
       "              15  1985.0   14.412100\n",
       "              16  1986.0   15.497300\n",
       "              17  1987.0   16.880200\n",
       "              18  1988.0   18.816300\n",
       "              19  1989.0   15.114300\n",
       "              20  1990.0   17.553400\n",
       "              21  1991.0   21.860100\n",
       "              22  1992.0   23.886600\n",
       "              23  1993.0   26.929300\n",
       "              24  1994.0   26.888500\n",
       "              25  1995.0   28.831400\n",
       "              26  1996.0   30.075100\n",
       "              27  1997.0   30.953500\n",
       "              28  1998.0   30.185700\n",
       "              29  1999.0   31.579700\n",
       "              30  2000.0   32.577569\n",
       "              31  2001.0   33.477398\n",
       "              32  2002.0   39.021581\n",
       "              33  2003.0   41.386432\n",
       "              34  2004.0   41.596552\n",
       "              35  2005.0   44.657324\n",
       "              36  2006.0   46.951775\n",
       "              37  2007.0   48.728837\n",
       "              38  2008.0   51.488427\n",
       "              39  2009.0   50.026967\n",
       "              40  2010.0   60.640913\n",
       "              41  2011.0   63.360310\n",
       "              42  2012.0   66.355274\n",
       "              43  2013.0   68.197955\n",
       "              44  2014.0   68.123238\n",
       "              45  2015.0   69.779345\n",
       "              46  2016.0   72.597701)])"
      ]
     },
     "execution_count": 41,
     "metadata": {},
     "output_type": "execute_result"
    }
   ],
   "source": [
    "import pyreadr\n",
    "result = pyreadr.read_r('../data/aus_airpassengers.rda') # also works for Rds\n",
    "result"
   ]
  },
  {
   "cell_type": "code",
   "execution_count": 42,
   "metadata": {},
   "outputs": [
    {
     "data": {
      "text/plain": [
       "collections.OrderedDict"
      ]
     },
     "execution_count": 42,
     "metadata": {},
     "output_type": "execute_result"
    }
   ],
   "source": [
    "type(result)"
   ]
  },
  {
   "cell_type": "code",
   "execution_count": 47,
   "metadata": {},
   "outputs": [
    {
     "data": {
      "text/plain": [
       "<bound method NDFrame.head of       Year  Passengers\n",
       "0   1970.0    7.318700\n",
       "1   1971.0    7.326600\n",
       "2   1972.0    7.795600\n",
       "3   1973.0    9.384600\n",
       "4   1974.0   10.664700\n",
       "5   1975.0   11.055100\n",
       "6   1976.0   10.864300\n",
       "7   1977.0   11.306500\n",
       "8   1978.0   12.122300\n",
       "9   1979.0   13.022500\n",
       "10  1980.0   13.648800\n",
       "11  1981.0   13.219500\n",
       "12  1982.0   13.187900\n",
       "13  1983.0   12.601500\n",
       "14  1984.0   13.236800\n",
       "15  1985.0   14.412100\n",
       "16  1986.0   15.497300\n",
       "17  1987.0   16.880200\n",
       "18  1988.0   18.816300\n",
       "19  1989.0   15.114300\n",
       "20  1990.0   17.553400\n",
       "21  1991.0   21.860100\n",
       "22  1992.0   23.886600\n",
       "23  1993.0   26.929300\n",
       "24  1994.0   26.888500\n",
       "25  1995.0   28.831400\n",
       "26  1996.0   30.075100\n",
       "27  1997.0   30.953500\n",
       "28  1998.0   30.185700\n",
       "29  1999.0   31.579700\n",
       "30  2000.0   32.577569\n",
       "31  2001.0   33.477398\n",
       "32  2002.0   39.021581\n",
       "33  2003.0   41.386432\n",
       "34  2004.0   41.596552\n",
       "35  2005.0   44.657324\n",
       "36  2006.0   46.951775\n",
       "37  2007.0   48.728837\n",
       "38  2008.0   51.488427\n",
       "39  2009.0   50.026967\n",
       "40  2010.0   60.640913\n",
       "41  2011.0   63.360310\n",
       "42  2012.0   66.355274\n",
       "43  2013.0   68.197955\n",
       "44  2014.0   68.123238\n",
       "45  2015.0   69.779345\n",
       "46  2016.0   72.597701>"
      ]
     },
     "execution_count": 47,
     "metadata": {},
     "output_type": "execute_result"
    }
   ],
   "source": [
    "df1 = result['aus_airpassengers'] # extract the pandas data frame for object df1\n",
    "df1.head"
   ]
  },
  {
   "cell_type": "code",
   "execution_count": 59,
   "metadata": {},
   "outputs": [
    {
     "data": {
      "text/plain": [
       "pandas.core.frame.DataFrame"
      ]
     },
     "execution_count": 59,
     "metadata": {},
     "output_type": "execute_result"
    }
   ],
   "source": [
    "type(df1)"
   ]
  },
  {
   "cell_type": "code",
   "execution_count": 60,
   "metadata": {},
   "outputs": [],
   "source": [
    "df = pd.DataFrame(df1)"
   ]
  },
  {
   "cell_type": "code",
   "execution_count": 61,
   "metadata": {},
   "outputs": [
    {
     "data": {
      "text/html": [
       "<div>\n",
       "<style scoped>\n",
       "    .dataframe tbody tr th:only-of-type {\n",
       "        vertical-align: middle;\n",
       "    }\n",
       "\n",
       "    .dataframe tbody tr th {\n",
       "        vertical-align: top;\n",
       "    }\n",
       "\n",
       "    .dataframe thead th {\n",
       "        text-align: right;\n",
       "    }\n",
       "</style>\n",
       "<table border=\"1\" class=\"dataframe\">\n",
       "  <thead>\n",
       "    <tr style=\"text-align: right;\">\n",
       "      <th></th>\n",
       "      <th>Year</th>\n",
       "      <th>Passengers</th>\n",
       "    </tr>\n",
       "  </thead>\n",
       "  <tbody>\n",
       "    <tr>\n",
       "      <th>0</th>\n",
       "      <td>1970.0</td>\n",
       "      <td>7.3187</td>\n",
       "    </tr>\n",
       "    <tr>\n",
       "      <th>1</th>\n",
       "      <td>1971.0</td>\n",
       "      <td>7.3266</td>\n",
       "    </tr>\n",
       "    <tr>\n",
       "      <th>2</th>\n",
       "      <td>1972.0</td>\n",
       "      <td>7.7956</td>\n",
       "    </tr>\n",
       "    <tr>\n",
       "      <th>3</th>\n",
       "      <td>1973.0</td>\n",
       "      <td>9.3846</td>\n",
       "    </tr>\n",
       "    <tr>\n",
       "      <th>4</th>\n",
       "      <td>1974.0</td>\n",
       "      <td>10.6647</td>\n",
       "    </tr>\n",
       "  </tbody>\n",
       "</table>\n",
       "</div>"
      ],
      "text/plain": [
       "     Year  Passengers\n",
       "0  1970.0      7.3187\n",
       "1  1971.0      7.3266\n",
       "2  1972.0      7.7956\n",
       "3  1973.0      9.3846\n",
       "4  1974.0     10.6647"
      ]
     },
     "execution_count": 61,
     "metadata": {},
     "output_type": "execute_result"
    }
   ],
   "source": [
    "df.head()"
   ]
  },
  {
   "cell_type": "code",
   "execution_count": 62,
   "metadata": {},
   "outputs": [
    {
     "name": "stdout",
     "output_type": "stream",
     "text": [
      "<class 'pandas.core.frame.DataFrame'>\n",
      "RangeIndex: 47 entries, 0 to 46\n",
      "Data columns (total 2 columns):\n",
      " #   Column      Non-Null Count  Dtype  \n",
      "---  ------      --------------  -----  \n",
      " 0   Year        47 non-null     float64\n",
      " 1   Passengers  47 non-null     float64\n",
      "dtypes: float64(2)\n",
      "memory usage: 880.0 bytes\n"
     ]
    }
   ],
   "source": [
    "df.info()\n"
   ]
  },
  {
   "cell_type": "code",
   "execution_count": 66,
   "metadata": {},
   "outputs": [
    {
     "data": {
      "text/plain": [
       "<AxesSubplot:>"
      ]
     },
     "execution_count": 66,
     "metadata": {},
     "output_type": "execute_result"
    },
    {
     "data": {
      "image/png": "[encoded data removed]",
      "text/plain": [
       "<Figure size 432x288 with 1 Axes>"
      ]
     },
     "metadata": {
      "needs_background": "light"
     },
     "output_type": "display_data"
    }
   ],
   "source": [
    "df['Passengers'].plot()"
   ]
  },
  {
   "cell_type": "code",
   "execution_count": null,
   "metadata": {},
   "outputs": [],
   "source": []
  }
 ],
 "metadata": {
  "kernelspec": {
   "display_name": "Python 3",
   "language": "python",
   "name": "python3"
  },
  "language_info": {
   "codemirror_mode": {
    "name": "ipython",
    "version": 3
   },
   "file_extension": ".py",
   "mimetype": "text/x-python",
   "name": "python",
   "nbconvert_exporter": "python",
   "pygments_lexer": "ipython3",
   "version": "3.8.5"
  },
  "toc": {
   "base_numbering": 1,
   "nav_menu": {},
   "number_sections": true,
   "sideBar": true,
   "skip_h1_title": false,
   "title_cell": "Table of Contents",
   "title_sidebar": "Contents",
   "toc_cell": false,
   "toc_position": {},
   "toc_section_display": true,
   "toc_window_display": false
  }
 },
 "nbformat": 4,
 "nbformat_minor": 4
}
